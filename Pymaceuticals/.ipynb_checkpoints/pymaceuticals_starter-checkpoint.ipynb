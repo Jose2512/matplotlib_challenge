{
 "cells": [
  {
   "cell_type": "markdown",
   "metadata": {},
   "source": [
    "## Observations and Insights"
   ]
  },
  {
   "cell_type": "markdown",
   "metadata": {},
   "source": [
    "### 1- As the effectiveness of a treatment is better the number of Data Points avaliable increases, since it allows mice to last longer, and thus, creating more data points. This is visible in the Datapoints plot with the 2 most effective treatmentas which are Capomulin and Ramicane\n",
    "\n",
    "### 2- Capomulin and Ramicane are the only two treatments that demonstrate true effectiveness reducing the tumor size as shown in the boxplot. \n",
    "\n",
    "### 3- The average tumor size correlates at a factor of 0.84 with mice weight\n",
    "\n",
    "### 4- Propiva appears to be the least effective drug, since it has the least number of data points, probably by causing the most deaths on mice."
   ]
  },
  {
   "cell_type": "markdown",
   "metadata": {},
   "source": [
    "## Dependencies and starter code"
   ]
  },
  {
   "cell_type": "code",
   "execution_count": 1,
   "metadata": {},
   "outputs": [
    {
     "data": {
      "text/html": [
       "<div>\n",
       "<style scoped>\n",
       "    .dataframe tbody tr th:only-of-type {\n",
       "        vertical-align: middle;\n",
       "    }\n",
       "\n",
       "    .dataframe tbody tr th {\n",
       "        vertical-align: top;\n",
       "    }\n",
       "\n",
       "    .dataframe thead th {\n",
       "        text-align: right;\n",
       "    }\n",
       "</style>\n",
       "<table border=\"1\" class=\"dataframe\">\n",
       "  <thead>\n",
       "    <tr style=\"text-align: right;\">\n",
       "      <th></th>\n",
       "      <th>Mouse ID</th>\n",
       "      <th>Drug Regimen</th>\n",
       "      <th>Sex</th>\n",
       "      <th>Age_months</th>\n",
       "      <th>Weight (g)</th>\n",
       "      <th>Timepoint</th>\n",
       "      <th>Tumor Volume (mm3)</th>\n",
       "      <th>Metastatic Sites</th>\n",
       "    </tr>\n",
       "  </thead>\n",
       "  <tbody>\n",
       "    <tr>\n",
       "      <td>0</td>\n",
       "      <td>k403</td>\n",
       "      <td>Ramicane</td>\n",
       "      <td>Male</td>\n",
       "      <td>21</td>\n",
       "      <td>16</td>\n",
       "      <td>0</td>\n",
       "      <td>45.000000</td>\n",
       "      <td>0</td>\n",
       "    </tr>\n",
       "    <tr>\n",
       "      <td>1</td>\n",
       "      <td>k403</td>\n",
       "      <td>Ramicane</td>\n",
       "      <td>Male</td>\n",
       "      <td>21</td>\n",
       "      <td>16</td>\n",
       "      <td>5</td>\n",
       "      <td>38.825898</td>\n",
       "      <td>0</td>\n",
       "    </tr>\n",
       "    <tr>\n",
       "      <td>2</td>\n",
       "      <td>k403</td>\n",
       "      <td>Ramicane</td>\n",
       "      <td>Male</td>\n",
       "      <td>21</td>\n",
       "      <td>16</td>\n",
       "      <td>10</td>\n",
       "      <td>35.014271</td>\n",
       "      <td>1</td>\n",
       "    </tr>\n",
       "    <tr>\n",
       "      <td>3</td>\n",
       "      <td>k403</td>\n",
       "      <td>Ramicane</td>\n",
       "      <td>Male</td>\n",
       "      <td>21</td>\n",
       "      <td>16</td>\n",
       "      <td>15</td>\n",
       "      <td>34.223992</td>\n",
       "      <td>1</td>\n",
       "    </tr>\n",
       "    <tr>\n",
       "      <td>4</td>\n",
       "      <td>k403</td>\n",
       "      <td>Ramicane</td>\n",
       "      <td>Male</td>\n",
       "      <td>21</td>\n",
       "      <td>16</td>\n",
       "      <td>20</td>\n",
       "      <td>32.997729</td>\n",
       "      <td>1</td>\n",
       "    </tr>\n",
       "  </tbody>\n",
       "</table>\n",
       "</div>"
      ],
      "text/plain": [
       "  Mouse ID Drug Regimen   Sex  Age_months  Weight (g)  Timepoint  \\\n",
       "0     k403     Ramicane  Male          21          16          0   \n",
       "1     k403     Ramicane  Male          21          16          5   \n",
       "2     k403     Ramicane  Male          21          16         10   \n",
       "3     k403     Ramicane  Male          21          16         15   \n",
       "4     k403     Ramicane  Male          21          16         20   \n",
       "\n",
       "   Tumor Volume (mm3)  Metastatic Sites  \n",
       "0           45.000000                 0  \n",
       "1           38.825898                 0  \n",
       "2           35.014271                 1  \n",
       "3           34.223992                 1  \n",
       "4           32.997729                 1  "
      ]
     },
     "execution_count": 1,
     "metadata": {},
     "output_type": "execute_result"
    }
   ],
   "source": [
    "# Dependencies and Setup\n",
    "import matplotlib.pyplot as plt\n",
    "import pandas as pd\n",
    "import scipy.stats as st\n",
    "import numpy as np\n",
    "from scipy.stats import linregress\n",
    "\n",
    "# Study data files\n",
    "mouse_metadata = \"data/Mouse_metadata.csv\"\n",
    "study_results = \"data/Study_results.csv\"\n",
    "\n",
    "# Read the mouse data and the study results\n",
    "mouse_metadata = pd.read_csv(mouse_metadata)\n",
    "study_results = pd.read_csv(study_results)\n",
    "mouse_study = pd.merge(mouse_metadata, study_results, on=\"Mouse ID\")\n",
    "mouse_study.head()\n",
    "# Combine the data into a single dataset"
   ]
  },
  {
   "cell_type": "markdown",
   "metadata": {},
   "source": [
    "## Summary statistics"
   ]
  },
  {
   "cell_type": "code",
   "execution_count": 2,
   "metadata": {},
   "outputs": [
    {
     "data": {
      "text/html": [
       "<div>\n",
       "<style scoped>\n",
       "    .dataframe tbody tr th:only-of-type {\n",
       "        vertical-align: middle;\n",
       "    }\n",
       "\n",
       "    .dataframe tbody tr th {\n",
       "        vertical-align: top;\n",
       "    }\n",
       "\n",
       "    .dataframe thead th {\n",
       "        text-align: right;\n",
       "    }\n",
       "</style>\n",
       "<table border=\"1\" class=\"dataframe\">\n",
       "  <thead>\n",
       "    <tr style=\"text-align: right;\">\n",
       "      <th></th>\n",
       "      <th>Tumor Volume (mm3) Mean</th>\n",
       "      <th>Tumor Volume (mm3) Median</th>\n",
       "      <th>Tumor Volume (mm3) Variance</th>\n",
       "      <th>Tumor Volume (mm3) Standard Deviation</th>\n",
       "      <th>Tumor Volume (mm3) SEM</th>\n",
       "    </tr>\n",
       "    <tr>\n",
       "      <th>Drug Regimen</th>\n",
       "      <th></th>\n",
       "      <th></th>\n",
       "      <th></th>\n",
       "      <th></th>\n",
       "      <th></th>\n",
       "    </tr>\n",
       "  </thead>\n",
       "  <tbody>\n",
       "    <tr>\n",
       "      <td>Capomulin</td>\n",
       "      <td>40.675741</td>\n",
       "      <td>41.557809</td>\n",
       "      <td>24.947764</td>\n",
       "      <td>4.994774</td>\n",
       "      <td>0.329346</td>\n",
       "    </tr>\n",
       "    <tr>\n",
       "      <td>Ceftamin</td>\n",
       "      <td>52.591172</td>\n",
       "      <td>51.776157</td>\n",
       "      <td>39.290177</td>\n",
       "      <td>6.268188</td>\n",
       "      <td>0.469821</td>\n",
       "    </tr>\n",
       "    <tr>\n",
       "      <td>Infubinol</td>\n",
       "      <td>52.884795</td>\n",
       "      <td>51.820584</td>\n",
       "      <td>43.128684</td>\n",
       "      <td>6.567243</td>\n",
       "      <td>0.492236</td>\n",
       "    </tr>\n",
       "    <tr>\n",
       "      <td>Ketapril</td>\n",
       "      <td>55.235638</td>\n",
       "      <td>53.698743</td>\n",
       "      <td>68.553577</td>\n",
       "      <td>8.279709</td>\n",
       "      <td>0.603860</td>\n",
       "    </tr>\n",
       "    <tr>\n",
       "      <td>Naftisol</td>\n",
       "      <td>54.331565</td>\n",
       "      <td>52.509285</td>\n",
       "      <td>66.173479</td>\n",
       "      <td>8.134708</td>\n",
       "      <td>0.596466</td>\n",
       "    </tr>\n",
       "    <tr>\n",
       "      <td>Placebo</td>\n",
       "      <td>54.033581</td>\n",
       "      <td>52.288934</td>\n",
       "      <td>61.168083</td>\n",
       "      <td>7.821003</td>\n",
       "      <td>0.581331</td>\n",
       "    </tr>\n",
       "    <tr>\n",
       "      <td>Propriva</td>\n",
       "      <td>52.322552</td>\n",
       "      <td>50.854632</td>\n",
       "      <td>42.351070</td>\n",
       "      <td>6.507770</td>\n",
       "      <td>0.512884</td>\n",
       "    </tr>\n",
       "    <tr>\n",
       "      <td>Ramicane</td>\n",
       "      <td>40.216745</td>\n",
       "      <td>40.673236</td>\n",
       "      <td>23.486704</td>\n",
       "      <td>4.846308</td>\n",
       "      <td>0.320955</td>\n",
       "    </tr>\n",
       "    <tr>\n",
       "      <td>Stelasyn</td>\n",
       "      <td>54.233149</td>\n",
       "      <td>52.431737</td>\n",
       "      <td>59.450562</td>\n",
       "      <td>7.710419</td>\n",
       "      <td>0.573111</td>\n",
       "    </tr>\n",
       "    <tr>\n",
       "      <td>Zoniferol</td>\n",
       "      <td>53.236507</td>\n",
       "      <td>51.818479</td>\n",
       "      <td>48.533355</td>\n",
       "      <td>6.966589</td>\n",
       "      <td>0.516398</td>\n",
       "    </tr>\n",
       "  </tbody>\n",
       "</table>\n",
       "</div>"
      ],
      "text/plain": [
       "              Tumor Volume (mm3) Mean  Tumor Volume (mm3) Median  \\\n",
       "Drug Regimen                                                       \n",
       "Capomulin                   40.675741                  41.557809   \n",
       "Ceftamin                    52.591172                  51.776157   \n",
       "Infubinol                   52.884795                  51.820584   \n",
       "Ketapril                    55.235638                  53.698743   \n",
       "Naftisol                    54.331565                  52.509285   \n",
       "Placebo                     54.033581                  52.288934   \n",
       "Propriva                    52.322552                  50.854632   \n",
       "Ramicane                    40.216745                  40.673236   \n",
       "Stelasyn                    54.233149                  52.431737   \n",
       "Zoniferol                   53.236507                  51.818479   \n",
       "\n",
       "              Tumor Volume (mm3) Variance  \\\n",
       "Drug Regimen                                \n",
       "Capomulin                       24.947764   \n",
       "Ceftamin                        39.290177   \n",
       "Infubinol                       43.128684   \n",
       "Ketapril                        68.553577   \n",
       "Naftisol                        66.173479   \n",
       "Placebo                         61.168083   \n",
       "Propriva                        42.351070   \n",
       "Ramicane                        23.486704   \n",
       "Stelasyn                        59.450562   \n",
       "Zoniferol                       48.533355   \n",
       "\n",
       "              Tumor Volume (mm3) Standard Deviation  Tumor Volume (mm3) SEM  \n",
       "Drug Regimen                                                                 \n",
       "Capomulin                                  4.994774                0.329346  \n",
       "Ceftamin                                   6.268188                0.469821  \n",
       "Infubinol                                  6.567243                0.492236  \n",
       "Ketapril                                   8.279709                0.603860  \n",
       "Naftisol                                   8.134708                0.596466  \n",
       "Placebo                                    7.821003                0.581331  \n",
       "Propriva                                   6.507770                0.512884  \n",
       "Ramicane                                   4.846308                0.320955  \n",
       "Stelasyn                                   7.710419                0.573111  \n",
       "Zoniferol                                  6.966589                0.516398  "
      ]
     },
     "execution_count": 2,
     "metadata": {},
     "output_type": "execute_result"
    }
   ],
   "source": [
    "# Generate a summary statistics table of mean, median, variance, standard deviation, and SEM of the tumor volume for each regime\n",
    "# Group byy each grud regimen\n",
    "drug_regimen = mouse_study.groupby(\"Drug Regimen\")\n",
    "# Calculate statistics\n",
    "drug_mean = drug_regimen[\"Tumor Volume (mm3)\"].mean()\n",
    "drug_median =drug_regimen[\"Tumor Volume (mm3)\"].median()\n",
    "drug_variance =drug_regimen[\"Tumor Volume (mm3)\"].var()\n",
    "drug_std= drug_regimen[\"Tumor Volume (mm3)\"].std()\n",
    "drug_sem= drug_regimen[\"Tumor Volume (mm3)\"].sem()\n",
    "# Create a DataFrame with the statistics\n",
    "drug_statistics = pd.DataFrame({\"Tumor Volume (mm3) Mean\":drug_mean, \n",
    "                                \"Tumor Volume (mm3) Median\":drug_median, \n",
    "                                \"Tumor Volume (mm3) Variance\":drug_variance, \n",
    "                                \"Tumor Volume (mm3) Standard Deviation\": drug_std, \n",
    "                               \"Tumor Volume (mm3) SEM\":drug_sem})\n",
    "drug_statistics"
   ]
  },
  {
   "cell_type": "markdown",
   "metadata": {},
   "source": [
    "## Bar plots"
   ]
  },
  {
   "cell_type": "code",
   "execution_count": 3,
   "metadata": {},
   "outputs": [
    {
     "data": {
      "image/png": "[encoded data removed]",
      "text/plain": [
       "<Figure size 432x288 with 1 Axes>"
      ]
     },
     "metadata": {
      "needs_background": "light"
     },
     "output_type": "display_data"
    }
   ],
   "source": [
    "# Generate a bar plot showing number of data points for each treatment regimen using pandas\n",
    "# Count how many data points there are for each regimen\n",
    "count_regimen = drug_regimen[\"Drug Regimen\"].count()\n",
    "# Plot and formating\n",
    "count_regimen_plot = count_regimen.plot(kind='bar', title=\"Number of Data points per regimen\", ylim=(0,count_regimen.max()*1.1))\n",
    "count_regimen_plot.set_xlabel(\"Drug Regimen\")\n",
    "count_regimen_plot.set_ylabel(\"No. of data points\")\n",
    "plt.show()\n"
   ]
  },
  {
   "cell_type": "code",
   "execution_count": 4,
   "metadata": {},
   "outputs": [
    {
     "data": {
      "image/png": "[encoded data removed]",
      "text/plain": [
       "<Figure size 432x288 with 1 Axes>"
      ]
     },
     "metadata": {
      "needs_background": "light"
     },
     "output_type": "display_data"
    }
   ],
   "source": [
    "# Generate a bar plot showing number of data points for each treatment regimen using pyplot\n",
    "# List the names of the drug regimens, x axis ticks and locations\n",
    "drugs_names = drug_statistics.index\n",
    "x_axis = np.arange(len(drugs_names))\n",
    "tick_locations = [value for value in x_axis]\n",
    "plt.bar(x_axis,count_regimen,width=0.5)\n",
    "plt.xticks(tick_locations, drugs_names, rotation=\"vertical\")\n",
    "plt.xlim(-0.5, len(x_axis)-0.5)\n",
    "plt.ylim(0,count_regimen.max()*1.1)\n",
    "plt.title(\"Number of Data points per regimen\")\n",
    "plt.xlabel(\"Drug Regimen\")\n",
    "plt.ylabel(\"No. of data points\")\n",
    "plt.show()"
   ]
  },
  {
   "cell_type": "markdown",
   "metadata": {},
   "source": [
    "## Pie plots"
   ]
  },
  {
   "cell_type": "code",
   "execution_count": 5,
   "metadata": {},
   "outputs": [
    {
     "data": {
      "image/png": "[encoded data removed]",
      "text/plain": [
       "<Figure size 432x288 with 1 Axes>"
      ]
     },
     "metadata": {},
     "output_type": "display_data"
    }
   ],
   "source": [
    "# Generate a pie plot showing the distribution of female versus male mice using pandas\n",
    "# Generate a ne DataFrame gropued by the Mouse ID and Sex to avoid duplicating values for the same mouse\n",
    "gender_data = pd.DataFrame(mouse_study.groupby([\"Mouse ID\", \"Sex\"]).count())\n",
    "gender_data = gender_data.reset_index()\n",
    "# Count how many Males and Females there are in the DataFrame\n",
    "gender_data_sum = gender_data[\"Sex\"].value_counts()\n",
    "# Plot Using pandas\n",
    "gender_data_plot = gender_data_sum.plot(kind=\"pie\",autopct='%1.1f%%', title=\"Distribution of female versus male\", fontsize=16)\n"
   ]
  },
  {
   "cell_type": "code",
   "execution_count": 6,
   "metadata": {},
   "outputs": [
    {
     "data": {
      "text/plain": [
       "Text(0, 0.5, 'Sex')"
      ]
     },
     "execution_count": 6,
     "metadata": {},
     "output_type": "execute_result"
    },
    {
     "data": {
      "image/png": "[encoded data removed]",
      "text/plain": [
       "<Figure size 432x288 with 1 Axes>"
      ]
     },
     "metadata": {},
     "output_type": "display_data"
    }
   ],
   "source": [
    "# Generate a pie plot showing the distribution of female versus male mice using pyplot\n",
    "# Create X and y series\n",
    "labels = gender_data_sum.index\n",
    "values = gender_data_sum\n",
    "plt.pie(values,labels=labels,autopct=\"%1.1f%%\",textprops={'fontsize': 16})\n",
    "plt.title(\"Distribution of female versus male\")\n",
    "plt.ylabel(\"Sex\")\n"
   ]
  },
  {
   "cell_type": "markdown",
   "metadata": {},
   "source": [
    "## Quartiles, outliers and boxplots"
   ]
  },
  {
   "cell_type": "code",
   "execution_count": 7,
   "metadata": {},
   "outputs": [
    {
     "data": {
      "text/html": [
       "<div>\n",
       "<style scoped>\n",
       "    .dataframe tbody tr th:only-of-type {\n",
       "        vertical-align: middle;\n",
       "    }\n",
       "\n",
       "    .dataframe tbody tr th {\n",
       "        vertical-align: top;\n",
       "    }\n",
       "\n",
       "    .dataframe thead th {\n",
       "        text-align: right;\n",
       "    }\n",
       "</style>\n",
       "<table border=\"1\" class=\"dataframe\">\n",
       "  <thead>\n",
       "    <tr style=\"text-align: right;\">\n",
       "      <th></th>\n",
       "      <th>Drug Regimen</th>\n",
       "      <th>Final Tumor Volume (mm3)</th>\n",
       "    </tr>\n",
       "    <tr>\n",
       "      <th>Mouse ID</th>\n",
       "      <th></th>\n",
       "      <th></th>\n",
       "    </tr>\n",
       "  </thead>\n",
       "  <tbody>\n",
       "    <tr>\n",
       "      <td>a203</td>\n",
       "      <td>Infubinol</td>\n",
       "      <td>67.973419</td>\n",
       "    </tr>\n",
       "    <tr>\n",
       "      <td>a251</td>\n",
       "      <td>Infubinol</td>\n",
       "      <td>65.525743</td>\n",
       "    </tr>\n",
       "    <tr>\n",
       "      <td>a275</td>\n",
       "      <td>Ceftamin</td>\n",
       "      <td>62.999356</td>\n",
       "    </tr>\n",
       "    <tr>\n",
       "      <td>a411</td>\n",
       "      <td>Ramicane</td>\n",
       "      <td>38.407618</td>\n",
       "    </tr>\n",
       "    <tr>\n",
       "      <td>a444</td>\n",
       "      <td>Ramicane</td>\n",
       "      <td>43.047543</td>\n",
       "    </tr>\n",
       "    <tr>\n",
       "      <td>...</td>\n",
       "      <td>...</td>\n",
       "      <td>...</td>\n",
       "    </tr>\n",
       "    <tr>\n",
       "      <td>y769</td>\n",
       "      <td>Ceftamin</td>\n",
       "      <td>68.594745</td>\n",
       "    </tr>\n",
       "    <tr>\n",
       "      <td>y793</td>\n",
       "      <td>Capomulin</td>\n",
       "      <td>31.896238</td>\n",
       "    </tr>\n",
       "    <tr>\n",
       "      <td>y865</td>\n",
       "      <td>Ceftamin</td>\n",
       "      <td>64.729837</td>\n",
       "    </tr>\n",
       "    <tr>\n",
       "      <td>z578</td>\n",
       "      <td>Ramicane</td>\n",
       "      <td>30.638696</td>\n",
       "    </tr>\n",
       "    <tr>\n",
       "      <td>z581</td>\n",
       "      <td>Infubinol</td>\n",
       "      <td>62.754451</td>\n",
       "    </tr>\n",
       "  </tbody>\n",
       "</table>\n",
       "<p>100 rows × 2 columns</p>\n",
       "</div>"
      ],
      "text/plain": [
       "         Drug Regimen  Final Tumor Volume (mm3)\n",
       "Mouse ID                                       \n",
       "a203        Infubinol                 67.973419\n",
       "a251        Infubinol                 65.525743\n",
       "a275         Ceftamin                 62.999356\n",
       "a411         Ramicane                 38.407618\n",
       "a444         Ramicane                 43.047543\n",
       "...               ...                       ...\n",
       "y769         Ceftamin                 68.594745\n",
       "y793        Capomulin                 31.896238\n",
       "y865         Ceftamin                 64.729837\n",
       "z578         Ramicane                 30.638696\n",
       "z581        Infubinol                 62.754451\n",
       "\n",
       "[100 rows x 2 columns]"
      ]
     },
     "execution_count": 7,
     "metadata": {},
     "output_type": "execute_result"
    }
   ],
   "source": [
    "# Calculate the final tumor volume of each mouse across four of the most promising treatment regimens. Calculate the IQR and quantitatively determine if there are any potential outliers. \n",
    "# Collect the data for the four most promising treatments in a DataFrame\n",
    "best_four_treatment = mouse_study.loc[(mouse_study[\"Drug Regimen\"] == \"Capomulin\") \n",
    "                                      | (mouse_study[\"Drug Regimen\"] == \"Ramicane\")\n",
    "                                     | (mouse_study[\"Drug Regimen\"] == \"Infubinol\")\n",
    "                                     | (mouse_study[\"Drug Regimen\"] == \"Ceftamin\")]\n",
    "# For the final tumor volume, we need to know how long each mouse lasted based on the maximum Time point\n",
    "# I created a DataFrame that contains the maximum Timepoint for each mouse.\n",
    "mouse_tumor_data = pd.DataFrame(best_four_treatment.groupby([\"Mouse ID\",\"Drug Regimen\"])[\"Timepoint\"].max())\n",
    "mouse_tumor_data = mouse_tumor_data.reset_index()\n",
    "# Then I merged with the initial DataFrame to find the tumor volume at the last timepoint for each mouse\n",
    "final_tumor_volume = pd.merge(mouse_tumor_data, mouse_study, on=[\"Mouse ID\",\"Timepoint\"])\n",
    "# Pickup only the columns I needed\n",
    "final_tumor_volume = final_tumor_volume[[\"Mouse ID\", \"Drug Regimen_x\",\"Tumor Volume (mm3)\"]]\n",
    "#Rename them for ease of usage\n",
    "final_tumor_volume = final_tumor_volume.rename(columns={\"Drug Regimen_x\":\"Drug Regimen\",\"Tumor Volume (mm3)\":\"Final Tumor Volume (mm3)\"})\n",
    "# Set the index for each mouse ID\n",
    "final_tumor_volume = final_tumor_volume.set_index(\"Mouse ID\")\n",
    "# Created a set for each treatment regimen\n",
    "capomulin_group = final_tumor_volume.loc[final_tumor_volume[\"Drug Regimen\"]==\"Capomulin\"][\"Final Tumor Volume (mm3)\"]\n",
    "ramicane_group = final_tumor_volume.loc[final_tumor_volume[\"Drug Regimen\"]==\"Ramicane\"][\"Final Tumor Volume (mm3)\"]\n",
    "infubinol_group = final_tumor_volume.loc[final_tumor_volume[\"Drug Regimen\"]==\"Infubinol\"][\"Final Tumor Volume (mm3)\"]\n",
    "ceftamin_group = final_tumor_volume.loc[final_tumor_volume[\"Drug Regimen\"]==\"Ceftamin\"][\"Final Tumor Volume (mm3)\"]\n",
    "# Created a list for the boxplot\n",
    "drug_groups = [capomulin_group,ramicane_group,infubinol_group,ceftamin_group]\n",
    "final_tumor_volume"
   ]
  },
  {
   "cell_type": "code",
   "execution_count": 8,
   "metadata": {},
   "outputs": [
    {
     "name": "stdout",
     "output_type": "stream",
     "text": [
      "There are 0 outlier(s) in the Capomulin regimen.\n",
      "There are 0 outlier(s) in the Ramomulin regimen.\n",
      "There are 1 outlier(s) in the Infubinol regimen.\n",
      "There are 0 outlier(s) in the Ceftamin regimen.\n"
     ]
    }
   ],
   "source": [
    "#Calculated the IQR*1.5 to determine outliers for each of the four regimens. Output is just text\n",
    "quartiles_cap = ramicane_group.quantile([.25,.5,.75])\n",
    "lowerq_cap = quartiles_cap[0.25]\n",
    "upperq_cap = quartiles_cap[0.75]\n",
    "iqr_cap = upperq_cap-lowerq_cap\n",
    "lower_bound_cap = lowerq_cap - (1.5*iqr_cap)\n",
    "upper_bound_cap = upperq_cap + (1.5*iqr_cap)\n",
    "outliers_cap = capomulin_group.loc[(capomulin_group >upper_bound_cap)|(capomulin_group<lower_bound_cap)]\n",
    "len(outliers_cap)\n",
    "print(f\"There are {len(outliers_cap)} outlier(s) in the Capomulin regimen.\")\n",
    "\n",
    "quartiles_ram = ramicane_group.quantile([.25,.5,.75])\n",
    "lowerq_ram = quartiles_ram[0.25]\n",
    "upperq_ram = quartiles_ram[0.75]\n",
    "iqr_ram = upperq_ram-lowerq_ram\n",
    "lower_bound_ram = lowerq_ram - (1.5*iqr_ram)\n",
    "upper_bound_ram = upperq_ram + (1.5*iqr_ram)\n",
    "outliers_ram = ramicane_group.loc[(ramicane_group >upper_bound_ram)|(ramicane_group<lower_bound_ram)]\n",
    "len(outliers_ram)\n",
    "print(f\"There are {len(outliers_ram)} outlier(s) in the Ramomulin regimen.\")\n",
    "\n",
    "quartiles_Inf = infubinol_group.quantile([.25,.5,.75])\n",
    "lowerq_Inf = quartiles_Inf[0.25]\n",
    "upperq_Inf = quartiles_Inf[0.75]\n",
    "iqr_Inf = upperq_Inf-lowerq_Inf\n",
    "lower_bound_Inf = lowerq_Inf - (1.5*iqr_Inf)\n",
    "upper_bound_Inf = upperq_Inf + (1.5*iqr_Inf)\n",
    "outliers_Inf = infubinol_group.loc[(infubinol_group >upper_bound_Inf)|(infubinol_group<lower_bound_Inf)]\n",
    "len(outliers_Inf)\n",
    "print(f\"There are {len(outliers_Inf)} outlier(s) in the Infubinol regimen.\")\n",
    "\n",
    "quartiles_Cef = ceftamin_group.quantile([.25,.5,.75])\n",
    "lowerq_Cef = quartiles_Cef[0.25]\n",
    "upperq_Cef = quartiles_Cef[0.75]\n",
    "iqr_Cef = upperq_Cef-lowerq_Cef\n",
    "lower_bound_Cef = lowerq_Cef - (1.5*iqr_Cef)\n",
    "upper_bound_Cef = upperq_Cef + (1.5*iqr_Cef)\n",
    "outliers_Cef = ceftamin_group.loc[(ceftamin_group >upper_bound_Cef)|(ceftamin_group<lower_bound_Cef)]\n",
    "len(outliers_Cef)\n",
    "print(f\"There are {len(outliers_Cef)} outlier(s) in the Ceftamin regimen.\")\n"
   ]
  },
  {
   "cell_type": "code",
   "execution_count": 9,
   "metadata": {},
   "outputs": [
    {
     "data": {
      "image/png": "[encoded data removed]",
      "text/plain": [
       "<Figure size 432x288 with 1 Axes>"
      ]
     },
     "metadata": {
      "needs_background": "light"
     },
     "output_type": "display_data"
    }
   ],
   "source": [
    "# Generate a box plot of the final tumor volume of each mouse across four regimens of interest\n",
    "fig1, ax1 = plt.subplots()\n",
    "ax1.set_title('Final tumor volume for all four treatment regimens')\n",
    "ax1.set_ylabel('Final Tumor Volume')\n",
    "ax1.set_xlabel('Drug Regimen')\n",
    "red_marker = dict(markerfacecolor='r', marker='D')\n",
    "ax1.boxplot(drug_groups, flierprops=red_marker)\n",
    "tick_locations_best = [1,2,3,4]\n",
    "drugs_names_best = [\"Capomulin\",\"Ramicane\",\"Infubinol\",\"Ceftamin\"]\n",
    "plt.xticks(tick_locations_best, drugs_names_best, rotation=\"horizontal\")\n",
    "plt.show()"
   ]
  },
  {
   "cell_type": "markdown",
   "metadata": {},
   "source": [
    "## Line and scatter plots"
   ]
  },
  {
   "cell_type": "code",
   "execution_count": 10,
   "metadata": {},
   "outputs": [
    {
     "data": {
      "image/png": "[encoded data removed]",
      "text/plain": [
       "<Figure size 432x288 with 1 Axes>"
      ]
     },
     "metadata": {
      "needs_background": "light"
     },
     "output_type": "display_data"
    }
   ],
   "source": [
    "# Generate a line plot of time point versus tumor volume for a mouse treated with Capomulin\n",
    "# Serach for mouse s185\n",
    "capomulin_data_s185 = mouse_study.loc[mouse_study[\"Mouse ID\"] == \"s185\"]\n",
    "# Use only Timepoint and Tumor Volume columns and ste timepoint as index\n",
    "capomulin_data_s185 = capomulin_data_s185[[\"Timepoint\", \"Tumor Volume (mm3)\"]].set_index(\"Timepoint\")\n",
    "# Plot and format\n",
    "capomulin_s185_plot = capomulin_data_s185.plot(kind='line')\n",
    "capomulin_s185_plot.set_title(\"Capomulin - Mouse ID s185 - Time point versus tumor volume\")\n",
    "capomulin_s185_plot.set_xlabel(\"Time point (Days)\")\n",
    "capomulin_s185_plot.set_ylabel(\"Tumor Volume (mm3)\")\n",
    "plt.show()"
   ]
  },
  {
   "cell_type": "code",
   "execution_count": 11,
   "metadata": {},
   "outputs": [
    {
     "data": {
      "image/png": "[encoded data removed]",
      "text/plain": [
       "<Figure size 432x288 with 1 Axes>"
      ]
     },
     "metadata": {
      "needs_background": "light"
     },
     "output_type": "display_data"
    }
   ],
   "source": [
    "# Generate a scatter plot of mouse weight versus average tumor volume for the Capomulin regimen\n",
    "# Obtain only Campomulin Data\n",
    "capomulin_regimen = mouse_study.loc[mouse_study[\"Drug Regimen\"] == \"Capomulin\"]\n",
    "# Group by Mouse ID and obtain the mean values of the tumor volume and weight, since weight does not change it will be the same\n",
    "weight_volume = pd.DataFrame(capomulin_regimen.groupby([\"Mouse ID\"]).mean())[[\"Tumor Volume (mm3)\",\"Weight (g)\"]]\n",
    "y_values = weight_volume[\"Tumor Volume (mm3)\"]\n",
    "x_values  = weight_volume[\"Weight (g)\"]\n",
    "plt.scatter(x_values, y_values, color=\"blue\")\n",
    "plt.ylabel('Tumor Volume (mm3)')\n",
    "plt.xlabel('Weight (g)')\n",
    "plt.title(\"Capomulin regimen - Mouse weight versus average tumor volume\")\n",
    "plt.show()"
   ]
  },
  {
   "cell_type": "code",
   "execution_count": 12,
   "metadata": {},
   "outputs": [
    {
     "name": "stdout",
     "output_type": "stream",
     "text": [
      "The correlation between both factors is 0.84\n"
     ]
    },
    {
     "data": {
      "image/png": "[encoded data removed]",
      "text/plain": [
       "<Figure size 432x288 with 1 Axes>"
      ]
     },
     "metadata": {
      "needs_background": "light"
     },
     "output_type": "display_data"
    }
   ],
   "source": [
    "# Calculate the correlation coefficient and linear regression model for mouse weight and average tumor volume for the Capomulin regimen\n",
    "# Obtain the correlation\n",
    "correlation = st.pearsonr(x_values,y_values)\n",
    "# Calculate the linear regression model\n",
    "(slope, intercept, rvalue, pvalue, stderr) = linregress(x_values, y_values)\n",
    "regress_values = x_values * slope + intercept\n",
    "# write the formula\n",
    "line_eq = \"y = \" + str(round(slope,2)) + \"x + \" + str(round(intercept,2))\n",
    "#Plot and formating\n",
    "plt.scatter(x_values,y_values)\n",
    "plt.plot(x_values,regress_values,\"r-\")\n",
    "plt.annotate(line_eq,(18,38),fontsize=15,color=\"black\")\n",
    "plt.scatter(x_values, y_values, color=\"blue\")\n",
    "plt.title(\"Capomulin regimen - Mouse weight versus average tumor volume\")\n",
    "plt.ylabel('Tumor Volume (mm3)')\n",
    "plt.xlabel('Weight (g)')\n",
    "print(f\"The correlation between both factors is {round(correlation[0],2)}\")\n",
    "plt.show()\n"
   ]
  },
  {
   "cell_type": "code",
   "execution_count": null,
   "metadata": {},
   "outputs": [],
   "source": []
  }
 ],
 "metadata": {
  "anaconda-cloud": {},
  "kernelspec": {
   "display_name": "Python 3",
   "language": "python",
   "name": "python3"
  },
  "language_info": {
   "codemirror_mode": {
    "name": "ipython",
    "version": 3
   },
   "file_extension": ".py",
   "mimetype": "text/x-python",
   "name": "python",
   "nbconvert_exporter": "python",
   "pygments_lexer": "ipython3",
   "version": "3.7.4"
  }
 },
 "nbformat": 4,
 "nbformat_minor": 2
}
